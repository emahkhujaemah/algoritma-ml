{
 "cells": [
  {
   "cell_type": "markdown",
   "metadata": {},
   "source": [
    "# 1. Genetic Algorithm"
   ]
  },
  {
   "cell_type": "markdown",
   "metadata": {},
   "source": [
    "The Genetic Algorithm (GA) is a computing technique based on Darwinian evolution. To use this, you start with a population of random guesses, rank them based on some fitness score, make small adjustments over time, and select the best at each generation. Over time, you can evolve anything, given that it can have a score associated with it.\n",
    "\n",
    "In this experiment, we will evolve a picture of Taylor Swift. That is, we will evolve (using simulated selection, mutation, and mating) a program that can generate a picture of Taylor Swift. Why? This is largely an example of using arrays, and to show that computers can find unique solutions to problems."
   ]
  },
  {
   "cell_type": "markdown",
   "metadata": {},
   "source": [
    "#Table of Contents\n",
    "* [1. Genetic Algorithm](#1.-Genetic-Algorithm)\n",
    "\t* [1.1 \"Information\"](#1.1-\"Information\")\n",
    "\t* [1.2 Genotype](#1.2-Genotype)\n",
    "\t* [1.3 Fitness](#1.3-Fitness)\n",
    "\t* [1.4 Evolve](#1.4-Evolve)\n",
    "\t* [1.5 Results](#1.5-Results)\n"
   ]
  },
  {
   "cell_type": "markdown",
   "metadata": {},
   "source": [
    "## 1.1 \"Information\""
   ]
  },
  {
   "cell_type": "markdown",
   "metadata": {},
   "source": [
    "Creating this kind of representation of an image could also be practical. For example, a 100 x 100 pixel image contains 100 x 100 x 4 x 8 (320,000) _bits of information_. If we could reduce that to 50 x 7 x 8 (2,800) _bits of information_, that would be quite a savings (0.8 % of the original size)."
   ]
  },
  {
   "cell_type": "markdown",
   "metadata": {},
   "source": [
    "For this experiment, we will need a target image. Here is an image that is 100 pixels by 100 pixels:"
   ]
  },
  {
   "cell_type": "code",
   "execution_count": 2,
   "metadata": {},
   "outputs": [
    {
     "name": "stderr",
     "output_type": "stream",
     "text": [
      "UsageError: Line magic function `%download` not found.\n"
     ]
    }
   ],
   "source": [
    "%download http://www.avatarsdb.com/avatars/taylor_swift.jpg"
   ]
  },
  {
   "cell_type": "markdown",
   "metadata": {},
   "source": [
    "<img src=\"taylor_swift.jpg\"/>"
   ]
  },
  {
   "cell_type": "markdown",
   "metadata": {},
   "source": [
    "We will attempt to evolve this image."
   ]
  },
  {
   "cell_type": "markdown",
   "metadata": {},
   "source": [
    "## 1.2 Genotype"
   ]
  },
  {
   "cell_type": "markdown",
   "metadata": {},
   "source": [
    "The genotype will be composed of 50 random circles of a particular color (including red, green, blue, and alpha components) and a particular radius, at a given x,y location. So each genotype is made up of 50 of these:\n",
    "\n",
    "* red\n",
    "* green\n",
    "* blue\n",
    "* alpha\n",
    "* radius\n",
    "* x\n",
    "* y\n",
    "\n",
    "So, a genotype is 50 x 7, or 350 numbers. Each value will be represented by a number between 0 and 1, and will be scaled appropriately for its use. Every 7 values (gene) will be used to draw one circle.\n",
    "\n",
    "We draw each of the 50 circles to get an image like the following. Here we will draw the image that the genotype represents (the phenotype) on a PGraphics object, and then at the end render it to the Sketch.\n",
    "\n",
    "Note that to use a PGraphics object, we call `createGraphics()` with width and height as arguments. Then, we call `pg.fill()`, `pg.noStroke()`, and `pg.ellipse()`. These are just like `fill()`, `noStroke()`, and `ellipse()` but they work on the PGraphics object, rather than on the canvas.\n",
    "\n",
    "At some point later, we call `image(pg, 0, 0)` which says to make an image out of the PGraphics object, and draw it at (0, 0). "
   ]
  },
  {
   "cell_type": "code",
   "execution_count": 3,
   "metadata": {},
   "outputs": [
    {
     "ename": "SyntaxError",
     "evalue": "invalid syntax (Temp/ipykernel_8684/3947947394.py, line 1)",
     "output_type": "error",
     "traceback": [
      "\u001b[1;36m  File \u001b[1;32m\"C:\\Users\\Emah\\AppData\\Local\\Temp/ipykernel_8684/3947947394.py\"\u001b[1;36m, line \u001b[1;32m1\u001b[0m\n\u001b[1;33m    // Create the space for the full gene:\u001b[0m\n\u001b[1;37m    ^\u001b[0m\n\u001b[1;31mSyntaxError\u001b[0m\u001b[1;31m:\u001b[0m invalid syntax\n"
     ]
    }
   ],
   "source": [
    "// Create the space for the full gene:\n",
    "float [] gene = new float[350];\n",
    "\n",
    "// Set each location to a number between 0 and 1:\n",
    "for (int i = 0; i < 350; i++) {\n",
    "    gene[i] = random(1);\n",
    "}\n",
    "\n",
    "// Create a place to draw the creature (the Phenotype):\n",
    "PGraphics pg = createGraphics(100, 100);\n",
    "\n",
    "// Now we draw it:\n",
    "for (int i = 0; i < 350; i += 7) {\n",
    "    float r = gene[i + 0] * 255;\n",
    "    float g = gene[i + 1] * 255;\n",
    "    float b = gene[i + 2] * 255;\n",
    "    float a = gene[i + 3] * 255;\n",
    "    float radius = gene[i + 4] * 100/2;\n",
    "    float x = gene[i + 5] * 100;\n",
    "    float y = gene[i + 6] * 100;\n",
    "    pg.fill(r, g, b, a);\n",
    "    pg.noStroke();\n",
    "    pg.ellipse(x, y, radius, radius);\n",
    "}\n",
    "// Finally, show the creature:\n",
    "image(pg, 0, 0); "
   ]
  },
  {
   "cell_type": "markdown",
   "metadata": {},
   "source": [
    "That doesn't look very much like Taylor Swift. How off is it?"
   ]
  },
  {
   "cell_type": "markdown",
   "metadata": {},
   "source": [
    "## 1.3 Fitness"
   ]
  },
  {
   "cell_type": "markdown",
   "metadata": {},
   "source": [
    "We give a phenotype a fitness value by comparing each pixel of the generated image with our target image. To compare two pixels, we sum the difference of each red, green, blue, and alpha components."
   ]
  },
  {
   "cell_type": "code",
   "execution_count": 3,
   "metadata": {},
   "outputs": [
    {
     "data": {
      "text/html": [
       "\n",
       "<canvas id=\"canvas_2\"></canvas>\n",
       "<script>\n",
       "require([window.location.protocol + \"//calysto.github.io/javascripts/processing/processing.js\"], function () {\n",
       "    var processingCode = 'PImage target;\\n\\n// Create a place to draw the creature (the Phenotype):\\nPGraphics pg;\\n\\n\\nint computeFitness(PGraphics pg, PImage target) {\\n    int[] gdata = pg.toImageData().data; // height, width, data\\n    int[] tdata = target.imageData.data;\\n    fit = 0;\\n    for (int i = 0; i < (100 * 100 * 4); i++) {\\n        fit += abs(gdata[i] - tdata[i]);\\n    }\\n    return 100 * 100 * 4 * 255 - fit;\\n}\\n\\nvoid setup() {\\n    target = loadImage(\"taylor_swift.jpg\");\\n    target.loadPixels();\\n    pg = createGraphics(100, 100);\\n    // Create the space for the full gene:\\n    float [] gene = new float[350];\\n\\n    // Set each location to a number between 0 and 1:\\n    for (int i = 0; i < 350; i++) {\\n        gene[i] = random();\\n    }\\n\\n    // Now we render it:\\n    for (int i = 0; i < 350; i += 7) {\\n        r = gene[i + 0] * 255;\\n        g = gene[i + 1] * 255;\\n        b = gene[i + 2] * 255;\\n        a = gene[i + 3] * 255;\\n        radius = gene[i + 4] * 100/2;\\n        x = gene[i + 5] * 100;\\n        y = gene[i + 6] * 100;\\n        pg.fill(r, g, b, a);\\n        pg.noStroke();\\n        pg.ellipse(x, y, radius, radius);\\n    }\\n}\\n\\nvoid draw() {\\n    // Finally, show the creature:\\n    image(pg, 0, 0); \\n\\n    // and compute its fitness with the target image:\\n    fitness = computeFitness(pg, target);\\n\\n    fill(0);\\n    text(fitness, 1, 100 + 1); \\n    fill(255);\\n    text(fitness, 0, 100); \\n    noLoop();\\n}';\n",
       "    var cc = Processing.compile(processingCode);\n",
       "    var processingInstance = new Processing(\"canvas_2\", cc);\n",
       "});\n",
       "</script>\n"
      ],
      "text/plain": [
       "<IPython.core.display.HTML object>"
      ]
     },
     "metadata": {},
     "output_type": "display_data"
    }
   ],
   "source": [
    "%%processing\n",
    "PImage target;\n",
    "\n",
    "// Create a place to draw the creature (the Phenotype):\n",
    "PGraphics pg;\n",
    "\n",
    "\n",
    "int computeFitness(PGraphics pg, PImage target) {\n",
    "    int[] gdata = pg.toImageData().data; // height, width, data\n",
    "    int[] tdata = target.imageData.data;\n",
    "    fit = 0;\n",
    "    for (int i = 0; i < (100 * 100 * 4); i++) {\n",
    "        fit += abs(gdata[i] - tdata[i]);\n",
    "    }\n",
    "    return 100 * 100 * 4 * 255 - fit;\n",
    "}\n",
    "\n",
    "void setup() {\n",
    "    target = loadImage(\"taylor_swift.jpg\");\n",
    "    target.loadPixels();\n",
    "    pg = createGraphics(100, 100);\n",
    "    // Create the space for the full gene:\n",
    "    float [] gene = new float[350];\n",
    "\n",
    "    // Set each location to a number between 0 and 1:\n",
    "    for (int i = 0; i < 350; i++) {\n",
    "        gene[i] = random();\n",
    "    }\n",
    "\n",
    "    // Now we render it:\n",
    "    for (int i = 0; i < 350; i += 7) {\n",
    "        r = gene[i + 0] * 255;\n",
    "        g = gene[i + 1] * 255;\n",
    "        b = gene[i + 2] * 255;\n",
    "        a = gene[i + 3] * 255;\n",
    "        radius = gene[i + 4] * 100/2;\n",
    "        x = gene[i + 5] * 100;\n",
    "        y = gene[i + 6] * 100;\n",
    "        pg.fill(r, g, b, a);\n",
    "        pg.noStroke();\n",
    "        pg.ellipse(x, y, radius, radius);\n",
    "    }\n",
    "}\n",
    "\n",
    "void draw() {\n",
    "    // Finally, show the creature:\n",
    "    image(pg, 0, 0); \n",
    "\n",
    "    // and compute its fitness with the target image:\n",
    "    fitness = computeFitness(pg, target);\n",
    "\n",
    "    fill(0);\n",
    "    text(fitness, 1, 100 + 1); \n",
    "    fill(255);\n",
    "    text(fitness, 0, 100); \n",
    "    noLoop();\n",
    "}"
   ]
  },
  {
   "cell_type": "markdown",
   "metadata": {},
   "source": [
    "(Note how I made the number show... I display it once in black, offset by +1, +1, and then again in white.\n",
    "\n",
    "In an example I just ran, the result was 7,195,509. This is a low score. The best score is 100 x 100 x 4 x 255:"
   ]
  },
  {
   "cell_type": "code",
   "execution_count": null,
   "metadata": {},
   "outputs": [],
   "source": [
    "%%python\n",
    "print(100 * 100 * 4 * 255)"
   ]
  },
  {
   "cell_type": "markdown",
   "metadata": {},
   "source": [
    "So, the best score is 10,200,000, if we match every pixel exactly."
   ]
  },
  {
   "cell_type": "markdown",
   "metadata": {},
   "source": [
    "## 1.4 Evolve"
   ]
  },
  {
   "cell_type": "markdown",
   "metadata": {},
   "source": [
    "To evolve a picture, we'll follow this algorithm:"
   ]
  },
  {
   "cell_type": "markdown",
   "metadata": {},
   "source": [
    "1. generate a random population of 25 genotypes\n",
    "2. compute their fitness (difference between phenotype and target image)\n",
    "3. sort the population by fitness (lower fitness means less differences)\n",
    "4. mutate some of the genes\n",
    "5. combine some of them together (crossover)\n",
    "6. go to step 2\n",
    "\n",
    "I will have a couple of variables that don't every change. I will write these in uppercase by convention to indicate the fact that they are constants.\n",
    "\n",
    "In this demonstration, I need to have an array of geneotypes. But wait, the geneotype is an array! That is right: I need an array of arrays. That is written like:\n",
    "\n",
    "```java\n",
    "float [][] pop = new float[POPSIZE][GENESIZE];\n",
    "```"
   ]
  },
  {
   "cell_type": "markdown",
   "metadata": {},
   "source": [
    "To make this work, I need to be able to sort the population based on fitness. this will turn out to be a very important function in computer science. I've done the sorting in a very simple way. We will return to this issue later."
   ]
  },
  {
   "cell_type": "code",
   "execution_count": 4,
   "metadata": {},
   "outputs": [
    {
     "data": {
      "text/html": [
       "\n",
       "<canvas id=\"canvas_3\"></canvas>\n",
       "<script>\n",
       "require([window.location.protocol + \"//calysto.github.io/javascripts/processing/processing.js\"], function () {\n",
       "    var processingCode = 'int POPSIZE = 25;\\nint GENESIZE = 50 * (4 + 2 + 1); // 4 for color, 2 for xy, 1 for radius\\n\\nPImage target = loadImage(\"taylor_swift.jpg\");\\ntarget.loadPixels();\\n\\nfloat [][] pop = new float[POPSIZE][GENESIZE];\\nfloat [] fitness = new float[POPSIZE];\\nPGraphics [] pgraphics = new PGraphics[POPSIZE];\\n\\nfloat[] makeGene() {\\n    float[] gene = new float[GENESIZE];\\n    for (int i = 0; i < GENESIZE; i++) {\\n        gene[i] = random(.999999);\\n    }\\n    return gene;\\n}\\n\\nfloat[] copyGene(int pos) {\\n    float[] gene = new float[GENESIZE];\\n    for (int i = 0; i < GENESIZE; i++) {\\n        gene[i] = pop[pos][i];\\n    }\\n    return gene;\\n}\\n\\nvoid setup() {\\n    // Create the population:\\n    size(500, 500);\\n    for (int i = 0; i < POPSIZE; i++) {\\n        pop[i] = makeGene();\\n        pgraphics[i] = createGraphics(100, 100);\\n    }\\n}\\n\\nPGraphics createPhenotype(int gene_pos, int w, int h) {\\n    pg = pgraphics[gene_pos];\\n    pg.background(255);\\n    for (int i = 0; i < GENESIZE; i += 7) {\\n        r = pop[gene_pos][i + 0] * 255;\\n        g = pop[gene_pos][i + 1] * 255;\\n        b = pop[gene_pos][i + 2] * 255;\\n        a = pop[gene_pos][i + 3] * 255;\\n        radius = pop[gene_pos][i + 4] * w/2;\\n        x = pop[gene_pos][i + 5] * w;\\n        y = pop[gene_pos][i + 6] * h;\\n        pg.fill(r, g, b, a);\\n        pg.noStroke();\\n        pg.ellipse(x, y, radius, radius);\\n    }\\n    return pg;\\n}\\n\\nvoid drawPopulation() {\\n    gene = 0;\\n    for (j=0; j < 5; j++) {\\n        for (i=0; i < 5; i++) {\\n            pg = createPhenotype(gene, 100, 100);\\n            image(pg, i * 100, j * 100); \\n            fill(0);\\n            text(fitness[gene], i * 100 + 1, j * 100 + 100 + 1); \\n            fill(255);\\n            text(fitness[gene], i * 100, j * 100 + 100); \\n            gene++;\\n        }\\n    }\\n}\\n\\nvoid sortPopulation() {\\n    for (int i = 0; i < POPSIZE - 1; i++) {\\n        for (int j = i + 1; j < POPSIZE; j++) {\\n            if (fitness[i] < fitness[j]) { // swap\\n                temp_fitness = fitness[i];\\n                fitness[i] = fitness[j];\\n                fitness[j] = temp_fitness;\\n                // swap genes:\\n                for (int c = 0; c < GENESIZE; c++) {\\n                    temp = pop[i][c];\\n                    pop[i][c] = pop[j][c];\\n                    pop[j][c] = temp;\\n                }\\n            }\\n        }\\n    }\\n}\\n\\nint computeFitness(int gene) {\\n    pg = createPhenotype(gene, 100, 100);\\n    gdata = pg.toImageData().data; // height, width, data\\n    tdata = target.imageData.data;\\n    fit = 0;\\n    for (int i = 0; i < (100 * 100 * 4); i++) {\\n        fit += abs(gdata[i] - tdata[i]);\\n    }\\n    return 100 * 100 * 4 * 255 - fit;\\n}\\n\\nvoid mutatePopulation(percent) {\\n    for (int p = 1; p < POPSIZE; p++) {\\n        for (int i = 0; i < GENESIZE; i++) {\\n            if (random(1) < percent) \\n                pop[p][i] = random(0, .99999);\\n        }\\n    }\\n}\\n\\nint fitnessSum() {\\n    sum = 0;\\n    for (int i = 0; i < POPSIZE; i++) {\\n        sum += fitness[0];\\n    }\\n    return sum;\\n}\\n\\nint select() {\\n    index = 0;\\n    partsum = 0.0;\\n    sumFitness = fitnessSum();\\n    spin = random() * sumFitness;\\n    while (index < POPSIZE - 1) {\\n        partsum += fitness[index];\\n        if (partsum >= spin) {\\n            break;\\n        }\\n        index += 1;\\n    }\\n    return index;\\n}\\n\\n\\nvoid crossoverPopulation(percent) {\\n    for (int p = POPSIZE - 1; p > POPSIZE - (POPSIZE * percent); p--) {\\n        c1 = select();\\n        c2 = select();\\n        crossover_point = random(GENESIZE);\\n        for (int i = 0; i < GENESIZE; i++) {\\n            if (i < crossover_point) \\n                pop[p][i] = pop[c1][i];\\n            else\\n                pop[p][i] = pop[c2][i];\\n        }\\n    }\\n}\\n\\nvoid draw() {\\n    for (int p = 0; p < POPSIZE; p++) {\\n        fitness[p] = computeFitness(p);\\n    }\\n    sortPopulation();\\n    drawPopulation();\\n    mutatePopulation(.01);\\n    crossoverPopulation(.80);\\n}';\n",
       "    var cc = Processing.compile(processingCode);\n",
       "    var processingInstance = new Processing(\"canvas_3\", cc);\n",
       "});\n",
       "</script>\n"
      ],
      "text/plain": [
       "<IPython.core.display.HTML object>"
      ]
     },
     "metadata": {},
     "output_type": "display_data"
    }
   ],
   "source": [
    "%%processing\n",
    "int POPSIZE = 25;\n",
    "int GENESIZE = 50 * (4 + 2 + 1); // 4 for color, 2 for xy, 1 for radius\n",
    "\n",
    "PImage target = loadImage(\"taylor_swift.jpg\");\n",
    "target.loadPixels();\n",
    "\n",
    "float [][] pop = new float[POPSIZE][GENESIZE];\n",
    "float [] fitness = new float[POPSIZE];\n",
    "PGraphics [] pgraphics = new PGraphics[POPSIZE];\n",
    "\n",
    "float[] makeGene() {\n",
    "    float[] gene = new float[GENESIZE];\n",
    "    for (int i = 0; i < GENESIZE; i++) {\n",
    "        gene[i] = random(.999999);\n",
    "    }\n",
    "    return gene;\n",
    "}\n",
    "\n",
    "float[] copyGene(int pos) {\n",
    "    float[] gene = new float[GENESIZE];\n",
    "    for (int i = 0; i < GENESIZE; i++) {\n",
    "        gene[i] = pop[pos][i];\n",
    "    }\n",
    "    return gene;\n",
    "}\n",
    "\n",
    "void setup() {\n",
    "    // Create the population:\n",
    "    size(500, 500);\n",
    "    for (int i = 0; i < POPSIZE; i++) {\n",
    "        pop[i] = makeGene();\n",
    "        pgraphics[i] = createGraphics(100, 100);\n",
    "    }\n",
    "}\n",
    "\n",
    "PGraphics createPhenotype(int gene_pos, int w, int h) {\n",
    "    pg = pgraphics[gene_pos];\n",
    "    pg.background(255);\n",
    "    for (int i = 0; i < GENESIZE; i += 7) {\n",
    "        r = pop[gene_pos][i + 0] * 255;\n",
    "        g = pop[gene_pos][i + 1] * 255;\n",
    "        b = pop[gene_pos][i + 2] * 255;\n",
    "        a = pop[gene_pos][i + 3] * 255;\n",
    "        radius = pop[gene_pos][i + 4] * w/2;\n",
    "        x = pop[gene_pos][i + 5] * w;\n",
    "        y = pop[gene_pos][i + 6] * h;\n",
    "        pg.fill(r, g, b, a);\n",
    "        pg.noStroke();\n",
    "        pg.ellipse(x, y, radius, radius);\n",
    "    }\n",
    "    return pg;\n",
    "}\n",
    "\n",
    "void drawPopulation() {\n",
    "    gene = 0;\n",
    "    for (j=0; j < 5; j++) {\n",
    "        for (i=0; i < 5; i++) {\n",
    "            pg = createPhenotype(gene, 100, 100);\n",
    "            image(pg, i * 100, j * 100); \n",
    "            fill(0);\n",
    "            text(fitness[gene], i * 100 + 1, j * 100 + 100 + 1); \n",
    "            fill(255);\n",
    "            text(fitness[gene], i * 100, j * 100 + 100); \n",
    "            gene++;\n",
    "        }\n",
    "    }\n",
    "}\n",
    "\n",
    "void sortPopulation() {\n",
    "    for (int i = 0; i < POPSIZE - 1; i++) {\n",
    "        for (int j = i + 1; j < POPSIZE; j++) {\n",
    "            if (fitness[i] < fitness[j]) { // swap\n",
    "                temp_fitness = fitness[i];\n",
    "                fitness[i] = fitness[j];\n",
    "                fitness[j] = temp_fitness;\n",
    "                // swap genes:\n",
    "                for (int c = 0; c < GENESIZE; c++) {\n",
    "                    temp = pop[i][c];\n",
    "                    pop[i][c] = pop[j][c];\n",
    "                    pop[j][c] = temp;\n",
    "                }\n",
    "            }\n",
    "        }\n",
    "    }\n",
    "}\n",
    "\n",
    "int computeFitness(int gene) {\n",
    "    pg = createPhenotype(gene, 100, 100);\n",
    "    gdata = pg.toImageData().data; // height, width, data\n",
    "    tdata = target.imageData.data;\n",
    "    fit = 0;\n",
    "    for (int i = 0; i < (100 * 100 * 4); i++) {\n",
    "        fit += abs(gdata[i] - tdata[i]);\n",
    "    }\n",
    "    return 100 * 100 * 4 * 255 - fit;\n",
    "}\n",
    "\n",
    "void mutatePopulation(percent) {\n",
    "    for (int p = 1; p < POPSIZE; p++) {\n",
    "        for (int i = 0; i < GENESIZE; i++) {\n",
    "            if (random(1) < percent) \n",
    "                pop[p][i] = random(0, .99999);\n",
    "        }\n",
    "    }\n",
    "}\n",
    "\n",
    "int fitnessSum() {\n",
    "    sum = 0;\n",
    "    for (int i = 0; i < POPSIZE; i++) {\n",
    "        sum += fitness[0];\n",
    "    }\n",
    "    return sum;\n",
    "}\n",
    "\n",
    "int select() {\n",
    "    index = 0;\n",
    "    partsum = 0.0;\n",
    "    sumFitness = fitnessSum();\n",
    "    spin = random() * sumFitness;\n",
    "    while (index < POPSIZE - 1) {\n",
    "        partsum += fitness[index];\n",
    "        if (partsum >= spin) {\n",
    "            break;\n",
    "        }\n",
    "        index += 1;\n",
    "    }\n",
    "    return index;\n",
    "}\n",
    "\n",
    "\n",
    "void crossoverPopulation(percent) {\n",
    "    for (int p = POPSIZE - 1; p > POPSIZE - (POPSIZE * percent); p--) {\n",
    "        c1 = select();\n",
    "        c2 = select();\n",
    "        crossover_point = random(GENESIZE);\n",
    "        for (int i = 0; i < GENESIZE; i++) {\n",
    "            if (i < crossover_point) \n",
    "                pop[p][i] = pop[c1][i];\n",
    "            else\n",
    "                pop[p][i] = pop[c2][i];\n",
    "        }\n",
    "    }\n",
    "}\n",
    "\n",
    "void draw() {\n",
    "    for (int p = 0; p < POPSIZE; p++) {\n",
    "        fitness[p] = computeFitness(p);\n",
    "    }\n",
    "    sortPopulation();\n",
    "    drawPopulation();\n",
    "    mutatePopulation(.01);\n",
    "    crossoverPopulation(.80);\n",
    "}\n"
   ]
  },
  {
   "cell_type": "markdown",
   "metadata": {
    "collapsed": true
   },
   "source": [
    "## 1.5 Results"
   ]
  },
  {
   "cell_type": "markdown",
   "metadata": {},
   "source": [
    "Settings:\n",
    "\n",
    "Parameter                   | Value\n",
    "---------                   | ------\n",
    "Circles used                | 50\n",
    "Population Size             | 25\n",
    "Mutation Rate               | 0.01\n",
    "Replacements from Selection | 0.80\n",
    "Crossover Points            | 1\n",
    "\n",
    "Resulting evolved images:\n",
    "\n",
    "<table>\n",
    "<tr>\n",
    "<th>\n",
    "Original/target\n",
    "</th>\n",
    "<th>\n",
    "1 Hour\n",
    "</th>\n",
    "<th>\n",
    "2 Hours\n",
    "</th>\n",
    "<th>\n",
    "10 Hours\n",
    "</th>\n",
    "</tr>\n",
    "<tr>\n",
    "<td>\n",
    "  <img src=\"taylor_swift.jpg\" width=\"100\"/>\n",
    "</td>\n",
    "<td>\n",
    "  <img src=\"evolved01.png\" width=\"100\"/>\n",
    "</td>\n",
    "<td>\n",
    "  <img src=\"evolved02.png\" width=\"100\"/>\n",
    "</td>\n",
    "<td>\n",
    "  <img src=\"evolved03.png\" width=\"100\"/>\n",
    "</td>\n",
    "</tr>\n",
    "</table>"
   ]
  }
 ],
 "metadata": {
  "kernelspec": {
   "display_name": "Python 3 (ipykernel)",
   "language": "python",
   "name": "python3"
  },
  "language_info": {
   "codemirror_mode": {
    "name": "ipython",
    "version": 3
   },
   "file_extension": ".py",
   "mimetype": "text/x-python",
   "name": "python",
   "nbconvert_exporter": "python",
   "pygments_lexer": "ipython3",
   "version": "3.9.7"
  }
 },
 "nbformat": 4,
 "nbformat_minor": 1
}
